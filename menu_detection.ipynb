{
 "cells": [
  {
   "cell_type": "code",
   "execution_count": 1,
   "metadata": {},
   "outputs": [],
   "source": [
    "import mahotas as mt\n",
    "def features(image):\n",
    "#     image = img[20:, 20:]\n",
    "    hara = mt.features.haralick(image)\n",
    "    \n",
    "    return hara.mean(axis=0)"
   ]
  },
  {
   "cell_type": "code",
   "execution_count": 2,
   "metadata": {},
   "outputs": [
    {
     "data": {
      "text/plain": [
       "['boosts',\n",
       " 'carnage_report',\n",
       " 'gameplay',\n",
       " 'leave',\n",
       " 'main',\n",
       " 'req_station',\n",
       " 'respawn',\n",
       " 'submenu']"
      ]
     },
     "execution_count": 2,
     "metadata": {},
     "output_type": "execute_result"
    }
   ],
   "source": [
    "import os\n",
    "\n",
    "menu_path = \"./menu_dataset/training\"\n",
    "\n",
    "cates = os.listdir(menu_path)\n",
    "\n",
    "cates"
   ]
  },
  {
   "cell_type": "code",
   "execution_count": 3,
   "metadata": {},
   "outputs": [],
   "source": [
    "def normalize_image(image):\n",
    "        grayscale = cv2.cvtColor(image, cv2.COLOR_BGR2GRAY)\n",
    "        crop = grayscale[150:, 0:]\n",
    "                \n",
    "#         cv2.imshow(\"img \", crop)\n",
    "#         cv2.waitKey(0)\n",
    "#         cv2.destroyAllWindows()\n",
    "        \n",
    "        return grayscale"
   ]
  },
  {
   "cell_type": "code",
   "execution_count": 4,
   "metadata": {},
   "outputs": [
    {
     "name": "stdout",
     "output_type": "stream",
     "text": [
      "boosts ./menu_dataset/training/boosts\\boosts copy.png\n",
      "boosts ./menu_dataset/training/boosts\\boosts.png\n",
      "carnage_report ./menu_dataset/training/carnage_report\\carnage_report.png\n",
      "carnage_report ./menu_dataset/training/carnage_report\\carnage_report2.png\n",
      "gameplay ./menu_dataset/training/gameplay\\gameplay.png\n",
      "gameplay ./menu_dataset/training/gameplay\\gameplay2.png\n",
      "leave ./menu_dataset/training/leave\\leave_matchmaking copy.png\n",
      "leave ./menu_dataset/training/leave\\leave_matchmaking.png\n",
      "main ./menu_dataset/training/main\\main_menu.png\n",
      "main ./menu_dataset/training/main\\main_menu2.png\n",
      "req_station ./menu_dataset/training/req_station\\req_station copy.png\n",
      "req_station ./menu_dataset/training/req_station\\req_station.png\n",
      "respawn ./menu_dataset/training/respawn\\respawn.png\n",
      "submenu ./menu_dataset/training/submenu\\submenu_ranked.png\n",
      "submenu ./menu_dataset/training/submenu\\submenu_warzone.png\n"
     ]
    }
   ],
   "source": [
    "import cv2\n",
    "import glob\n",
    "\n",
    "feats = []\n",
    "lbls =[]\n",
    "\n",
    "verify = []\n",
    "\n",
    "for cate in cates:\n",
    "    for file in glob.glob(f\"{menu_path}/{cate}/*.png\"):\n",
    "        verify.append(file)\n",
    "        \n",
    "        print(cate, file)\n",
    "        img = cv2.imread(file)\n",
    "        img = normalize_image(img)\n",
    "        \n",
    "        feat = features(img)\n",
    "        \n",
    "        feats.append(feat)\n",
    "        lbls.append(cate)"
   ]
  },
  {
   "cell_type": "code",
   "execution_count": 5,
   "metadata": {},
   "outputs": [
    {
     "data": {
      "text/plain": [
       "(15, 13)"
      ]
     },
     "execution_count": 5,
     "metadata": {},
     "output_type": "execute_result"
    }
   ],
   "source": [
    "import numpy as np\n",
    "\n",
    "np.array(feats).shape"
   ]
  },
  {
   "cell_type": "code",
   "execution_count": 6,
   "metadata": {},
   "outputs": [
    {
     "data": {
      "text/plain": [
       "LinearSVC(dual=False, random_state=5)"
      ]
     },
     "execution_count": 6,
     "metadata": {},
     "output_type": "execute_result"
    }
   ],
   "source": [
    "from sklearn.svm import LinearSVC\n",
    "\n",
    "svc = LinearSVC(random_state=5, dual=False)\n",
    "svc.fit(feats, lbls)"
   ]
  },
  {
   "cell_type": "code",
   "execution_count": 7,
   "metadata": {},
   "outputs": [],
   "source": [
    "np.random.shuffle(verify)\n",
    "test_data = verify"
   ]
  },
  {
   "cell_type": "code",
   "execution_count": 8,
   "metadata": {},
   "outputs": [
    {
     "name": "stdout",
     "output_type": "stream",
     "text": [
      "./menu_dataset/training/gameplay\\gameplay2.png gameplay\n",
      "./menu_dataset/training/req_station\\req_station copy.png req_station\n",
      "./menu_dataset/training/req_station\\req_station.png req_station\n",
      "./menu_dataset/training/submenu\\submenu_warzone.png submenu\n",
      "./menu_dataset/training/carnage_report\\carnage_report.png carnage_report\n",
      "./menu_dataset/training/main\\main_menu2.png main\n",
      "./menu_dataset/training/respawn\\respawn.png respawn\n",
      "./menu_dataset/training/leave\\leave_matchmaking copy.png leave\n",
      "./menu_dataset/training/main\\main_menu.png main\n",
      "./menu_dataset/training/boosts\\boosts.png boosts\n",
      "./menu_dataset/training/gameplay\\gameplay.png gameplay\n",
      "./menu_dataset/training/carnage_report\\carnage_report2.png carnage_report\n",
      "./menu_dataset/training/leave\\leave_matchmaking.png leave\n",
      "./menu_dataset/training/boosts\\boosts copy.png boosts\n",
      "./menu_dataset/training/submenu\\submenu_ranked.png submenu\n"
     ]
    }
   ],
   "source": [
    "for file in test_data:\n",
    "    image = cv2.imread(file)\n",
    "    normal = normalize_image(image)\n",
    "    feats = features(normal)\n",
    "    prediction = svc.predict(feats.reshape(1, -1))[0]\n",
    "  \n",
    "    print(file, prediction)"
   ]
  },
  {
   "cell_type": "code",
   "execution_count": null,
   "metadata": {},
   "outputs": [],
   "source": []
  }
 ],
 "metadata": {
  "kernelspec": {
   "display_name": "Python 3",
   "language": "python",
   "name": "python3"
  },
  "language_info": {
   "codemirror_mode": {
    "name": "ipython",
    "version": 3
   },
   "file_extension": ".py",
   "mimetype": "text/x-python",
   "name": "python",
   "nbconvert_exporter": "python",
   "pygments_lexer": "ipython3",
   "version": "3.9.0"
  }
 },
 "nbformat": 4,
 "nbformat_minor": 4
}
